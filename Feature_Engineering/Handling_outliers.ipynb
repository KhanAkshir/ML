{
 "cells": [
  {
   "cell_type": "markdown",
   "id": "d07f06ce-8866-421f-b03a-9036568d0381",
   "metadata": {},
   "source": [
    "# 5 number Summary\n",
    "### Minimum Value\n",
    "### Q1- 25 percentile\n",
    "### Median\n",
    "### Q3- 75 percentile\n",
    "### Maximum"
   ]
  },
  {
   "cell_type": "code",
   "execution_count": null,
   "id": "dabf3f4a-af81-4a57-ba82-4a86639dbd9d",
   "metadata": {},
   "outputs": [],
   "source": []
  },
  {
   "cell_type": "code",
   "execution_count": null,
   "id": "9c74e43f-cbdb-4977-a6da-a8cbd70971c9",
   "metadata": {},
   "outputs": [],
   "source": []
  },
  {
   "cell_type": "code",
   "execution_count": 1,
   "id": "10b5e164-8692-4616-ad91-ecea3b713367",
   "metadata": {},
   "outputs": [],
   "source": [
    "import numpy as np"
   ]
  },
  {
   "cell_type": "code",
   "execution_count": 10,
   "id": "384bfa57-ee50-40b2-b6da-ddc1eab85e46",
   "metadata": {},
   "outputs": [
    {
     "data": {
      "text/plain": [
       "array([1100.])"
      ]
     },
     "execution_count": 10,
     "metadata": {},
     "output_type": "execute_result"
    }
   ],
   "source": [
    "lst_marks=[42,32,56,75,89,54,32,89,90,87,67,54,45,98,90,67,74,1000,1100]\n",
    "np.percentile(lst_marks,[100]) # (pecentile/100)*n+1;"
   ]
  },
  {
   "cell_type": "code",
   "execution_count": null,
   "id": "f9c8d509-5490-4fab-b1f8-c77c529ad0a3",
   "metadata": {},
   "outputs": [],
   "source": []
  },
  {
   "cell_type": "code",
   "execution_count": 12,
   "id": "d03a936f-a1d5-4156-b478-def853f3f20d",
   "metadata": {},
   "outputs": [],
   "source": [
    "##[lower fence <--> higher fence]"
   ]
  },
  {
   "cell_type": "code",
   "execution_count": null,
   "id": "f8770b8a-838e-4897-a278-b5ae4ccf5d0a",
   "metadata": {},
   "outputs": [],
   "source": []
  },
  {
   "cell_type": "code",
   "execution_count": 44,
   "id": "ed2536be-c4c1-4f9f-b13a-eddc9fca034f",
   "metadata": {},
   "outputs": [],
   "source": [
    "Q1=np.percentile(lst_marks,[25])"
   ]
  },
  {
   "cell_type": "code",
   "execution_count": 45,
   "id": "b73f05d0-707d-4482-a607-142e3dc61534",
   "metadata": {},
   "outputs": [
    {
     "data": {
      "text/plain": [
       "54"
      ]
     },
     "execution_count": 45,
     "metadata": {},
     "output_type": "execute_result"
    }
   ],
   "source": [
    "int(Q1)"
   ]
  },
  {
   "cell_type": "code",
   "execution_count": 46,
   "id": "8c349ab0-8fed-4b5f-bda2-8dc5fcea2e1f",
   "metadata": {},
   "outputs": [],
   "source": [
    "minimum,Q1,Q2,Q3,maximum=np.quantile(lst_marks,[0,0.25,0.50,0.75,1.0])"
   ]
  },
  {
   "cell_type": "code",
   "execution_count": 47,
   "id": "2ec796d6-b866-4687-bf99-7c32526c44e9",
   "metadata": {},
   "outputs": [
    {
     "data": {
      "text/plain": [
       "(32.0, 54.0, 74.0, 89.5, 1100.0)"
      ]
     },
     "execution_count": 47,
     "metadata": {},
     "output_type": "execute_result"
    }
   ],
   "source": [
    "minimum,Q1,Q2,Q3,maximum"
   ]
  },
  {
   "cell_type": "code",
   "execution_count": 48,
   "id": "b43829a0-cc93-4a1a-a2a9-ac86a1d1fe01",
   "metadata": {},
   "outputs": [
    {
     "data": {
      "text/plain": [
       "54.0"
      ]
     },
     "execution_count": 48,
     "metadata": {},
     "output_type": "execute_result"
    }
   ],
   "source": [
    "Q1"
   ]
  },
  {
   "cell_type": "code",
   "execution_count": 49,
   "id": "6053b5cf-8819-4df6-9944-350f3ff05a26",
   "metadata": {},
   "outputs": [],
   "source": [
    "IQR = Q3-Q1"
   ]
  },
  {
   "cell_type": "code",
   "execution_count": 50,
   "id": "7f289bf7-1f0f-4411-bee8-cce7874a2454",
   "metadata": {},
   "outputs": [
    {
     "data": {
      "text/plain": [
       "35.5"
      ]
     },
     "execution_count": 50,
     "metadata": {},
     "output_type": "execute_result"
    }
   ],
   "source": [
    "IQR"
   ]
  },
  {
   "cell_type": "code",
   "execution_count": null,
   "id": "6d41b0ce-177b-4e16-831b-f4da229b840b",
   "metadata": {},
   "outputs": [],
   "source": []
  },
  {
   "cell_type": "code",
   "execution_count": 51,
   "id": "415e43ae-f4d5-40eb-882e-591f87b8412c",
   "metadata": {},
   "outputs": [],
   "source": [
    "lower_fence=Q1-1.5*IQR\n",
    "higher_fence=Q3+1.5*IQR"
   ]
  },
  {
   "cell_type": "code",
   "execution_count": 52,
   "id": "2c59da0f-e6c1-4f26-a1ec-34b4d30aecb6",
   "metadata": {},
   "outputs": [
    {
     "data": {
      "text/plain": [
       "0.75"
      ]
     },
     "execution_count": 52,
     "metadata": {},
     "output_type": "execute_result"
    }
   ],
   "source": [
    "lower_fence"
   ]
  },
  {
   "cell_type": "code",
   "execution_count": 53,
   "id": "11a04580-68e5-405e-a369-cad8dfe85a62",
   "metadata": {},
   "outputs": [
    {
     "data": {
      "text/plain": [
       "142.75"
      ]
     },
     "execution_count": 53,
     "metadata": {},
     "output_type": "execute_result"
    }
   ],
   "source": [
    "higher_fence"
   ]
  },
  {
   "cell_type": "code",
   "execution_count": null,
   "id": "fe94928b-1859-421d-ba00-c471867fe3ba",
   "metadata": {},
   "outputs": [],
   "source": []
  },
  {
   "cell_type": "code",
   "execution_count": 54,
   "id": "31e5bc36-8f9e-469c-aff6-1e2bf7fe497f",
   "metadata": {},
   "outputs": [
    {
     "name": "stdout",
     "output_type": "stream",
     "text": [
      "42 is NOT an outlier\n",
      "32 is NOT an outlier\n",
      "56 is NOT an outlier\n",
      "75 is NOT an outlier\n",
      "89 is NOT an outlier\n",
      "54 is NOT an outlier\n",
      "32 is NOT an outlier\n",
      "89 is NOT an outlier\n",
      "90 is NOT an outlier\n",
      "87 is NOT an outlier\n",
      "67 is NOT an outlier\n",
      "54 is NOT an outlier\n",
      "45 is NOT an outlier\n",
      "98 is NOT an outlier\n",
      "90 is NOT an outlier\n",
      "67 is NOT an outlier\n",
      "74 is NOT an outlier\n",
      "1000 is an outlier\n",
      "1100 is an outlier\n"
     ]
    }
   ],
   "source": [
    "outliers=[]\n",
    "for i in lst_marks:\n",
    "    if i>=lower_fence and i<=higher_fence:\n",
    "        print(f\"{i} is NOT an outlier\")\n",
    "    else:\n",
    "        print(f\"{i} is an outlier\")\n",
    "        outliers.append(i)\n",
    "         \n",
    "    "
   ]
  },
  {
   "cell_type": "code",
   "execution_count": null,
   "id": "1c0bbf7f-e840-4bfb-9c48-038a8427fd89",
   "metadata": {},
   "outputs": [],
   "source": []
  },
  {
   "cell_type": "code",
   "execution_count": 55,
   "id": "91b5fea3-fc2a-4995-b20a-a4ea4b1a8fbb",
   "metadata": {},
   "outputs": [
    {
     "data": {
      "text/plain": [
       "[1000, 1100]"
      ]
     },
     "execution_count": 55,
     "metadata": {},
     "output_type": "execute_result"
    }
   ],
   "source": [
    "outliers"
   ]
  },
  {
   "cell_type": "code",
   "execution_count": null,
   "id": "de487b8e-2ea8-4425-9294-390672820852",
   "metadata": {},
   "outputs": [],
   "source": []
  },
  {
   "cell_type": "code",
   "execution_count": 62,
   "id": "61c6a14b-8b92-4923-a17d-bfb0aed71607",
   "metadata": {},
   "outputs": [],
   "source": [
    "import seaborn as sns\n",
    "\n",
    "lst_marks=[42,32,56,75,89,54,32,89,90,87,67,54,45,98,90,67,74,1000,1100]"
   ]
  },
  {
   "cell_type": "code",
   "execution_count": 63,
   "id": "85003288-738d-4378-a877-481eab45dfe3",
   "metadata": {},
   "outputs": [
    {
     "data": {
      "text/plain": [
       "<AxesSubplot: >"
      ]
     },
     "execution_count": 63,
     "metadata": {},
     "output_type": "execute_result"
    },
    {
     "data": {
      "image/png": "[encoded data removed]",
      "text/plain": [
       "<Figure size 640x480 with 1 Axes>"
      ]
     },
     "metadata": {},
     "output_type": "display_data"
    }
   ],
   "source": [
    "sns.boxplot(lst_marks)"
   ]
  },
  {
   "cell_type": "code",
   "execution_count": null,
   "id": "4d310961-d0a2-4bb0-b745-ae17cb0be000",
   "metadata": {},
   "outputs": [],
   "source": []
  },
  {
   "cell_type": "code",
   "execution_count": null,
   "id": "d2fffbd3-39bf-42f6-af0a-1f9671693072",
   "metadata": {},
   "outputs": [],
   "source": []
  },
  {
   "cell_type": "code",
   "execution_count": 64,
   "id": "67b2d7ce-db74-4106-a95b-f7a009143d79",
   "metadata": {},
   "outputs": [
    {
     "data": {
      "text/plain": [
       "<AxesSubplot: >"
      ]
     },
     "execution_count": 64,
     "metadata": {},
     "output_type": "execute_result"
    },
    {
     "data": {
      "image/png": "[encoded data removed]",
      "text/plain": [
       "<Figure size 640x480 with 1 Axes>"
      ]
     },
     "metadata": {},
     "output_type": "display_data"
    }
   ],
   "source": [
    "lst_marks=[42,32,56,75,89,54,32,89,90,87,67,54,45,98,90,67,74]\n",
    "sns.boxplot(lst_marks) # without outliers"
   ]
  },
  {
   "cell_type": "code",
   "execution_count": null,
   "id": "d1582eef-08bc-4d91-b499-92f26705a19e",
   "metadata": {},
   "outputs": [],
   "source": []
  },
  {
   "cell_type": "code",
   "execution_count": null,
   "id": "cc345003-50d4-46ba-ae17-c17f06eb74b7",
   "metadata": {},
   "outputs": [],
   "source": []
  },
  {
   "cell_type": "code",
   "execution_count": null,
   "id": "7c586bf8-18a1-4b7a-a44e-1a9e9587d812",
   "metadata": {},
   "outputs": [],
   "source": []
  },
  {
   "cell_type": "code",
   "execution_count": null,
   "id": "f9ffbae6-0885-4986-a9e1-0a0cef96788d",
   "metadata": {},
   "outputs": [],
   "source": []
  },
  {
   "cell_type": "code",
   "execution_count": null,
   "id": "0989d6d1-4f2b-4ee9-adbe-9815feba9eb5",
   "metadata": {},
   "outputs": [],
   "source": []
  }
 ],
 "metadata": {
  "kernelspec": {
   "display_name": "Python 3 (ipykernel)",
   "language": "python",
   "name": "python3"
  },
  "language_info": {
   "codemirror_mode": {
    "name": "ipython",
    "version": 3
   },
   "file_extension": ".py",
   "mimetype": "text/x-python",
   "name": "python",
   "nbconvert_exporter": "python",
   "pygments_lexer": "ipython3",
   "version": "3.10.8"
  }
 },
 "nbformat": 4,
 "nbformat_minor": 5
}

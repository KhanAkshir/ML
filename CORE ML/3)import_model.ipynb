{
 "cells": [
  {
   "cell_type": "code",
   "execution_count": 17,
   "id": "ca18614e-159b-4152-b44a-e200f3a9578f",
   "metadata": {},
   "outputs": [],
   "source": [
    "import pickle\n",
    "import numpy as np"
   ]
  },
  {
   "cell_type": "code",
   "execution_count": 30,
   "id": "591b8615-f5e0-4fb1-995e-f8e08d5ed7c5",
   "metadata": {},
   "outputs": [],
   "source": [
    "House_price=pickle.load(open(\"regressor.pkl\",\"rb\"))"
   ]
  },
  {
   "cell_type": "code",
   "execution_count": 31,
   "id": "4192a740-6049-430e-aa02-b92ab9437c5f",
   "metadata": {},
   "outputs": [],
   "source": [
    "data=np.array([ [5.93585746e-02, -1.25954185e-01, -3.30706680e-01, -1.34731247e-03,\n",
    "        3.95616121e-01, -1.20210133e-01,  8.94590423e-01, -1.36503888e+00]])"
   ]
  },
  {
   "cell_type": "code",
   "execution_count": null,
   "id": "21cb88ae-7c36-4761-bc1f-6d6b0d31d247",
   "metadata": {},
   "outputs": [],
   "source": []
  },
  {
   "cell_type": "code",
   "execution_count": 32,
   "id": "2d3d3941-e5b4-4433-bbd1-8a35a111ce45",
   "metadata": {},
   "outputs": [
    {
     "data": {
      "text/plain": [
       "array([2.58011486])"
      ]
     },
     "execution_count": 32,
     "metadata": {},
     "output_type": "execute_result"
    }
   ],
   "source": [
    "House_price.predict(data)"
   ]
  },
  {
   "cell_type": "code",
   "execution_count": null,
   "id": "5c24b2ca-0e93-417c-9d8e-e28794563fb9",
   "metadata": {},
   "outputs": [],
   "source": []
  }
 ],
 "metadata": {
  "kernelspec": {
   "display_name": "Python 3 (ipykernel)",
   "language": "python",
   "name": "python3"
  },
  "language_info": {
   "codemirror_mode": {
    "name": "ipython",
    "version": 3
   },
   "file_extension": ".py",
   "mimetype": "text/x-python",
   "name": "python",
   "nbconvert_exporter": "python",
   "pygments_lexer": "ipython3",
   "version": "3.10.8"
  }
 },
 "nbformat": 4,
 "nbformat_minor": 5
}
